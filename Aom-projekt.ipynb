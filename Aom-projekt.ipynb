{
 "cells": [
  {
   "cell_type": "code",
   "execution_count": null,
   "metadata": {},
   "outputs": [],
   "source": [
    "%pip install pydicom\n",
    "%pip install customtkinter\n"
   ]
  },
  {
   "cell_type": "code",
   "execution_count": null,
   "metadata": {},
   "outputs": [],
   "source": [
    "%pip install matplotlib\n"
   ]
  },
  {
   "cell_type": "code",
   "execution_count": null,
   "metadata": {},
   "outputs": [],
   "source": [
    "import matplotlib\n",
    "print(matplotlib.__file__)"
   ]
  },
  {
   "cell_type": "code",
   "execution_count": null,
   "metadata": {},
   "outputs": [],
   "source": [
    "%pip install PIL\n",
    "%pip install numpy\n",
    "%pip install skimage"
   ]
  },
  {
   "cell_type": "code",
   "execution_count": null,
   "metadata": {},
   "outputs": [],
   "source": [
    "%pip install scipy"
   ]
  },
  {
   "cell_type": "code",
   "execution_count": null,
   "metadata": {},
   "outputs": [],
   "source": [
    "%pip uninstall scikit-image\n",
    "%pip install scikit-image"
   ]
  },
  {
   "cell_type": "code",
   "execution_count": null,
   "metadata": {},
   "outputs": [],
   "source": [
    "%pip install --upgrade scikit-image\n"
   ]
  },
  {
   "cell_type": "code",
   "execution_count": 2,
   "metadata": {},
   "outputs": [
    {
     "name": "stdout",
     "output_type": "stream",
     "text": [
      "0.20.0\n"
     ]
    }
   ],
   "source": [
    "import skimage\n",
    "print(skimage.__version__)\n"
   ]
  },
  {
   "cell_type": "code",
   "execution_count": null,
   "metadata": {},
   "outputs": [],
   "source": [
    "%pip install tkinter-tooltip"
   ]
  },
  {
   "cell_type": "code",
   "execution_count": 6,
   "metadata": {},
   "outputs": [
    {
     "name": "stdout",
     "output_type": "stream",
     "text": [
      "Collecting trimesh\n",
      "  Downloading trimesh-3.21.7-py3-none-any.whl (681 kB)\n",
      "     -------------------------------------- 681.1/681.1 kB 5.4 MB/s eta 0:00:00\n",
      "Requirement already satisfied: numpy in c:\\python311\\lib\\site-packages (from trimesh) (1.24.2)\n",
      "Installing collected packages: trimesh\n",
      "Successfully installed trimesh-3.21.7\n",
      "Note: you may need to restart the kernel to use updated packages.\n"
     ]
    },
    {
     "name": "stderr",
     "output_type": "stream",
     "text": [
      "\n",
      "[notice] A new release of pip available: 22.3.1 -> 23.1.2\n",
      "[notice] To update, run: python.exe -m pip install --upgrade pip\n"
     ]
    }
   ],
   "source": [
    "%pip install trimesh"
   ]
  },
  {
   "cell_type": "code",
   "execution_count": 10,
   "metadata": {},
   "outputs": [
    {
     "name": "stdout",
     "output_type": "stream",
     "text": [
      "Collecting pymeshlab\n",
      "  Downloading pymeshlab-2022.2.post4-cp311-cp311-win_amd64.whl (37.3 MB)\n",
      "     --------------------------------------- 37.3/37.3 MB 28.5 MB/s eta 0:00:00\n",
      "Requirement already satisfied: numpy in c:\\python311\\lib\\site-packages (from pymeshlab) (1.24.2)\n",
      "Collecting msvc-runtime\n",
      "  Downloading msvc_runtime-14.34.31931-cp311-cp311-win_amd64.whl (1.8 MB)\n",
      "     ---------------------------------------- 1.8/1.8 MB 28.7 MB/s eta 0:00:00\n",
      "Installing collected packages: msvc-runtime, pymeshlab\n",
      "Note: you may need to restart the kernel to use updated packages.\n"
     ]
    },
    {
     "name": "stderr",
     "output_type": "stream",
     "text": [
      "ERROR: Could not install packages due to an OSError: [Errno 13] Permission denied: 'c:\\\\Python311\\\\concrt140.dll'\n",
      "Consider using the `--user` option or check the permissions.\n",
      "\n",
      "\n",
      "[notice] A new release of pip available: 22.3.1 -> 23.1.2\n",
      "[notice] To update, run: python.exe -m pip install --upgrade pip\n"
     ]
    }
   ],
   "source": [
    "%pip install pymeshlab"
   ]
  },
  {
   "cell_type": "code",
   "execution_count": null,
   "metadata": {},
   "outputs": [],
   "source": [
    "%pip install customtkinter-tooltip"
   ]
  },
  {
   "cell_type": "code",
   "execution_count": 1,
   "metadata": {},
   "outputs": [
    {
     "ename": "KeyboardInterrupt",
     "evalue": "",
     "output_type": "error",
     "traceback": [
      "\u001b[1;31m---------------------------------------------------------------------------\u001b[0m",
      "\u001b[1;31mKeyboardInterrupt\u001b[0m                         Traceback (most recent call last)",
      "\u001b[1;32mc:\\Users\\Lenovo\\Downloads\\Aom-projekt.ipynb Cell 13\u001b[0m line \u001b[0;36m2\n\u001b[0;32m    <a href='vscode-notebook-cell:/c%3A/Users/Lenovo/Downloads/Aom-projekt.ipynb#X15sZmlsZQ%3D%3D?line=220'>221</a>\u001b[0m root \u001b[39m=\u001b[39m tk\u001b[39m.\u001b[39mTk()\n\u001b[0;32m    <a href='vscode-notebook-cell:/c%3A/Users/Lenovo/Downloads/Aom-projekt.ipynb#X15sZmlsZQ%3D%3D?line=221'>222</a>\u001b[0m app \u001b[39m=\u001b[39m Application(master\u001b[39m=\u001b[39mroot)\n\u001b[1;32m--> <a href='vscode-notebook-cell:/c%3A/Users/Lenovo/Downloads/Aom-projekt.ipynb#X15sZmlsZQ%3D%3D?line=222'>223</a>\u001b[0m app\u001b[39m.\u001b[39;49mmainloop()\n",
      "File \u001b[1;32mc:\\Python311\\Lib\\tkinter\\__init__.py:1485\u001b[0m, in \u001b[0;36mMisc.mainloop\u001b[1;34m(self, n)\u001b[0m\n\u001b[0;32m   1483\u001b[0m \u001b[39mdef\u001b[39;00m \u001b[39mmainloop\u001b[39m(\u001b[39mself\u001b[39m, n\u001b[39m=\u001b[39m\u001b[39m0\u001b[39m):\n\u001b[0;32m   1484\u001b[0m \u001b[39m    \u001b[39m\u001b[39m\"\"\"Call the mainloop of Tk.\"\"\"\u001b[39;00m\n\u001b[1;32m-> 1485\u001b[0m     \u001b[39mself\u001b[39;49m\u001b[39m.\u001b[39;49mtk\u001b[39m.\u001b[39;49mmainloop(n)\n",
      "File \u001b[1;32mc:\\Python311\\Lib\\tkinter\\__init__.py:1943\u001b[0m, in \u001b[0;36mCallWrapper.__call__\u001b[1;34m(self, *args)\u001b[0m\n\u001b[0;32m   1940\u001b[0m     \u001b[39mself\u001b[39m\u001b[39m.\u001b[39msubst \u001b[39m=\u001b[39m subst\n\u001b[0;32m   1941\u001b[0m     \u001b[39mself\u001b[39m\u001b[39m.\u001b[39mwidget \u001b[39m=\u001b[39m widget\n\u001b[1;32m-> 1943\u001b[0m \u001b[39mdef\u001b[39;00m \u001b[39m__call__\u001b[39m(\u001b[39mself\u001b[39m, \u001b[39m*\u001b[39margs):\n\u001b[0;32m   1944\u001b[0m \u001b[39m    \u001b[39m\u001b[39m\"\"\"Apply first function SUBST to arguments, than FUNC.\"\"\"\u001b[39;00m\n\u001b[0;32m   1945\u001b[0m     \u001b[39mtry\u001b[39;00m:\n",
      "\u001b[1;31mKeyboardInterrupt\u001b[0m: "
     ]
    },
    {
     "ename": "",
     "evalue": "",
     "output_type": "error",
     "traceback": [
      "\u001b[1;31mThe Kernel crashed while executing code in the the current cell or a previous cell. Please review the code in the cell(s) to identify a possible cause of the failure. Click <a href='https://aka.ms/vscodeJupyterKernelCrash'>here</a> for more info. View Jupyter <a href='command:jupyter.viewOutput'>log</a> for further details."
     ]
    }
   ],
   "source": [
    "from matplotlib import patches\n",
    "import pydicom\n",
    "import trimesh\n",
    "import os\n",
    "import tkinter as tk\n",
    "from scipy.ndimage import laplace\n",
    "import customtkinter\n",
    "from tkinter import filedialog\n",
    "from matplotlib import animation\n",
    "from PIL import ImageTk, Image\n",
    "import tkinter.ttk as ttk\n",
    "from tktooltip import ToolTip\n",
    "from matplotlib.patches import Ellipse\n",
    "import numpy as np\n",
    "from matplotlib.widgets import RectangleSelector\n",
    "import matplotlib.pyplot as plt\n",
    "from matplotlib.backends.backend_tkagg import FigureCanvasTkAgg\n",
    "from matplotlib.figure import Figure\n",
    "from skimage import io\n",
    "from skimage.filters import gaussian\n",
    "from skimage import feature\n",
    "from skimage.segmentation import active_contour\n",
    "customtkinter.set_appearance_mode(\"light\")  # Modes: system (default), light, dark\n",
    "customtkinter.set_default_color_theme(\"green\")  # Themes: blue (default), dark-blue, green\n",
    "class Application(tk.Frame):\n",
    "    def __init__(self, master=None):\n",
    "        super().__init__(master)\n",
    "        self.master = master\n",
    "        self.master.title(\"Segmentacja Obrazów\")\n",
    "        self.master.geometry(\"800x1000\")\n",
    "        self.master.maxsize(800,1000)\n",
    "        self.pack(fill='both', expand=True)\n",
    "        self.create_widgets()\n",
    "       \n",
    "    def create_widgets(self):\n",
    "        # Create label for canvas\n",
    "        self.canvas_label =customtkinter.CTkLabel(self, text=\"Segmentacja Obrazów Metodą Aktywnego Konturu\",font=customtkinter.CTkFont(size=20, weight=\"bold\"))\n",
    "        self.canvas_label.pack(pady=10)\n",
    "        # Create canvas to display image\n",
    "        self.figure = Figure(figsize=(5, 5), dpi=100, facecolor='#11ba71')\n",
    "        self.ax = self.figure.add_subplot(111)\n",
    "        self.ax.set_xticks([]), self.ax.set_yticks([])\n",
    "        self.canvas = FigureCanvasTkAgg(self.figure, master=self)\n",
    "        self.canvas.get_tk_widget().pack(padx=10, pady=10)\n",
    "        self.canvas.mpl_connect('motion_notify_event', self.update_xy_label)\n",
    "\n",
    "        # Create label to display x and y parameters\n",
    "        self.xy_label = customtkinter.CTkLabel(self, text=\"\")\n",
    "        self.xy_label.pack()\n",
    "\n",
    "\n",
    "        # Create open button to select image\n",
    "        self.open_button =  customtkinter.CTkButton(self, text=\"Wybierz Obraz\", command=self.load_image)\n",
    "        self.open_button.pack(pady=10)\n",
    "        self.open_button.place(x=175, y=570)\n",
    "        ToolTip(self.open_button, msg=\"Wybierz obraz do segmentacji\", follow=True)\n",
    "        # Create run button to segment image\n",
    "        self.run_button = customtkinter.CTkButton(self, text=\"Segmentuj Obraz\", command=self.segment_image)\n",
    "        self.run_button.pack(pady=10)\n",
    "        self.run_button.place(x=485, y=570)\n",
    "        ToolTip(self.run_button, msg=\"Naciśnij do przeprowadzenia segmentacji\", follow=True)\n",
    "        \n",
    "        self.run_button = customtkinter.CTkButton(self, text=\"Model 3D\", command=self.make_3image)\n",
    "        self.run_button.pack(pady=10)\n",
    "        self.run_button.place(x=485, y=600)\n",
    "        ToolTip(self.run_button, msg=\"Naciśnij do wyświetlenia modelu 3D\", follow=True)\n",
    "        # Create label and entry for alpha parameter\n",
    "        self.alpha_label = customtkinter.CTkLabel(self, text=\"Parametr Alpha:\")\n",
    "        self.alpha_label.pack()\n",
    "        self.alpha_entry = customtkinter.CTkEntry(self)\n",
    "        self.alpha_entry.insert(0, \"0.015\")\n",
    "        self.alpha_entry.pack()\n",
    "        ToolTip(self.alpha_entry, msg=\"Parametr Alpha\", follow=True)\n",
    "        # Create label and entry for beta parameter\n",
    "        self.beta_label = customtkinter.CTkLabel(self, text=\"Parametr Beta:\")\n",
    "        self.beta_label.pack()\n",
    "        self.beta_entry = customtkinter.CTkEntry(self)\n",
    "        self.beta_entry.insert(0, \"10\")\n",
    "        self.beta_entry.pack()\n",
    "        ToolTip(self.beta_entry, msg=\"Parametr Beta\", follow=True)\n",
    "        # Create label and entry for gamma parameter\n",
    "        self.gamma_label = customtkinter.CTkLabel(self, text=\"Parametr Gamma:\")\n",
    "        self.gamma_label.pack()\n",
    "        self.gamma_entry =  customtkinter.CTkEntry(self)\n",
    "        self.gamma_entry.insert(0, \"0.001\")\n",
    "        self.gamma_entry.pack()\n",
    "        ToolTip(self.gamma_entry, msg=\"Parametr Gamma\", follow=True)\n",
    "        # Create label and entry for x coordinate of initial contour\n",
    "        self.init_x_label = customtkinter.CTkLabel(self, text=\"Pozycja Y początkowego konturu:\")\n",
    "        self.init_x_label.pack()\n",
    "        self.init_x_entry =  customtkinter.CTkEntry(self)\n",
    "        self.init_x_entry.insert(0, \"250\")\n",
    "        self.init_x_entry.pack()\n",
    "        ToolTip(self.init_x_entry, msg=\"Punkt x początkowy naszego konturu(canvas ma wymiary 500x500)\", follow=True)\n",
    "        # Create label and entry for y coordinate of initial contour\n",
    "        self.init_y_label = customtkinter.CTkLabel(self, text=\"Pozycja X początkowego konturu:\")\n",
    "        self.init_y_label.pack()\n",
    "        self.init_y_entry =  customtkinter.CTkEntry(self)\n",
    "        self.init_y_entry.insert(0, \"250\")\n",
    "        self.init_y_entry.pack()\n",
    "        ToolTip(self.init_y_entry, msg=\"Punkt y początkowy naszego konturu(canvas ma wymiary 500x500)\", follow=True)\n",
    "        # Create label and entry for radius\n",
    "        self.init_rX_label = customtkinter.CTkLabel(self, text=\"Wartość promienia X:\")\n",
    "        self.init_rX_label.pack()\n",
    "        self.init_rX_entry =  customtkinter.CTkEntry(self)\n",
    "        self.init_rX_entry.insert(0, \"100\")\n",
    "        self.init_rX_entry.pack()\n",
    "        ToolTip(self.init_rX_entry, msg=\"Wartośc promienia-obszar jaki zaznaczamy do konturu(canvas ma wymiary 500x500)\", follow=True)\n",
    "        # Create label and entry for radius\n",
    "        self.init_rY_label = customtkinter.CTkLabel(self, text=\"Wartość promienia Y:\")\n",
    "        self.init_rY_label.pack()\n",
    "        self.init_rY_entry =  customtkinter.CTkEntry(self)\n",
    "        self.init_rY_entry.insert(0, \"100\")\n",
    "        self.init_rY_entry.pack()\n",
    "        ToolTip(self.init_rY_entry, msg=\"Wartośc promienia-obszar jaki zaznaczamy do konturu(canvas ma wymiary 500x500)\", follow=True)\n",
    "\n",
    "\n",
    "\n",
    "    \n",
    "\n",
    "    def make_3image(self):\n",
    "        settings = pymeshlab.MeshSetScript()\n",
    "\n",
    "        # load images from specified directory\n",
    "        settings.load_meshes_from_directory(\"C:/Users/Lenovo/OneDrive/Pulpit/aom/aa\")\n",
    "\n",
    "        # specify size of 3D image element\n",
    "        settings.set_attribute(\"voxelSize\", [1, 1, 5])\n",
    "\n",
    "        # create voxel object from the series of images\n",
    "        volume = pymeshlab.MeshSet()\n",
    "        volume.load_from_script(settings)\n",
    "\n",
    "        # define ISO value to build surface\n",
    "        iso = 127.0\n",
    "\n",
    "        # convert voxel object to mesh\n",
    "        mesh = volume.surface_voxelization(iso)\n",
    "\n",
    "        # save mesh to .stl file\n",
    "        stl_path = \"C:/Users/Lenovo/OneDrive/Pulpit/aom/mesh.stl\"\n",
    "        mesh.save_mesh(stl_path)\n",
    "\n",
    "        # load the mesh\n",
    "        trimesh_mesh = trimesh.load_mesh(stl_path)\n",
    "\n",
    "        # display the mesh\n",
    "        trimesh_mesh.show()\n",
    "    def update_xy_label(self, event):\n",
    "        x, y = event.x, event.y\n",
    "        self.xy_label.configure(text=f\"x={x}, y={y}\")\n",
    "\n",
    "    def load_image(self):\n",
    "        # Open file dialog to select image\n",
    "        file_path = filedialog.askopenfilename()\n",
    "\n",
    "        # Read DICOM file using pydicom\n",
    "        if file_path.endswith('.dcm'):\n",
    "            dicom_file = pydicom.dcmread(file_path)\n",
    "\n",
    "            # Convert DICOM pixel array to numpy array and normalize to 0-255 range\n",
    "            image_array = dicom_file.pixel_array\n",
    "            image_array = (image_array - np.min(image_array)) / (np.max(image_array) - np.min(image_array)) * 255\n",
    "            image_array = image_array.astype(np.uint8)\n",
    "\n",
    "            # Apply Canny filter to image\n",
    "            image_array = feature.canny(gaussian(image_array, sigma=2), sigma=3)\n",
    "\n",
    "\n",
    "        # Convert numpy array to PIL Image and resize to fit canvas\n",
    "        self.image = Image.fromarray(image_array)\n",
    "        self.image = self.image.resize((500, 500))\n",
    "\n",
    "        # Display image on canvas\n",
    "        self.ax.clear()\n",
    "        self.ax.set_xticks([]), self.ax.set_yticks([])\n",
    "        self.ax.imshow(self.image, cmap=plt.cm.gray)\n",
    "        self.canvas.draw()\n",
    "\n",
    "    def segment_image(self):\n",
    "        # Check if an image has been loaded\n",
    "        if not hasattr(self, 'image'):\n",
    "            print(\"Please load an image first.\")\n",
    "            return\n",
    "\n",
    "        # Convert image to numpy array\n",
    "        image_array = np.array(self.image)      \n",
    "\n",
    "        # Preprocess the image by applying a Gaussian filter:\n",
    "        image_gaus = gaussian(image_array, sigma=3)\n",
    "        image_can = feature.canny(image_gaus, sigma=3)\n",
    "        # Define the initial contour:\n",
    "        init_rX = int(self.init_rX_entry.get())\n",
    "        init_rY = int(self.init_rY_entry.get())\n",
    "        init_y = int(self.init_y_entry.get())\n",
    "        init_x = int(self.init_x_entry.get())\n",
    "        s = np.linspace(0, 2*np.pi, 400)\n",
    "        x = init_x+ init_rX*np.cos(s)\n",
    "        y = init_y +  init_rY*np.sin(s)\n",
    "        init = np.array([x, y]).T\n",
    "        # Set up active contour parameters\n",
    "        alpha = float(self.alpha_entry.get())\n",
    "        beta = float(self.beta_entry.get())\n",
    "        gamma = float(self.gamma_entry.get())\n",
    "\n",
    "\n",
    "        # Run active contour algorithm\n",
    "        snake = active_contour(gaussian(image_can,4, preserve_range=False),init, alpha=alpha, beta=beta, gamma=gamma, max_num_iter=500)\n",
    "\n",
    "\n",
    "        # Display segmented image on canvas\n",
    "        self.ax.clear()\n",
    "        self.ax.set_xticks([]), self.ax.set_yticks([])\n",
    "        self.ax.imshow(image_array, cmap=plt.cm.gray)\n",
    "        self.ax.plot(init[:, 1], init[:, 0], '--r', lw=3)\n",
    "        self.ax.plot(snake[:, 1], snake[:, 0], '-b', lw=3)\n",
    "        self.ax.add_artist(Ellipse((init_x, init_y), 5, 5, edgecolor='b', facecolor='r'))\n",
    "        self.canvas.draw()\n",
    "\n",
    "\n",
    "root = tk.Tk()\n",
    "app = Application(master=root)\n",
    "app.mainloop()"
   ]
  }
 ],
 "metadata": {
  "kernelspec": {
   "display_name": "Python 3",
   "language": "python",
   "name": "python3"
  },
  "language_info": {
   "codemirror_mode": {
    "name": "ipython",
    "version": 3
   },
   "file_extension": ".py",
   "mimetype": "text/x-python",
   "name": "python",
   "nbconvert_exporter": "python",
   "pygments_lexer": "ipython3",
   "version": "3.11.2"
  },
  "orig_nbformat": 4
 },
 "nbformat": 4,
 "nbformat_minor": 2
}
